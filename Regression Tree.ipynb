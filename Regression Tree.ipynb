{
 "cells": [
  {
   "cell_type": "code",
   "execution_count": 1,
   "id": "cd66d1c4",
   "metadata": {},
   "outputs": [],
   "source": [
    "import pandas as pd\n",
    "import numpy as np\n",
    "hitters=pd.read_csv(\"Beyzbol/Hitters.csv\")"
   ]
  },
  {
   "cell_type": "markdown",
   "id": "c2004de3",
   "metadata": {},
   "source": [
    "pandas, numpy kütüphanelerini ve üzerinde çalışacağımız veri setini dahil ediyoruz."
   ]
  },
  {
   "cell_type": "code",
   "execution_count": 2,
   "id": "5b900e52",
   "metadata": {},
   "outputs": [],
   "source": [
    "def rssCalculater(dataFrame, columnName, threshold, target):\n",
    "    lowerDf , higherDf =dfSplit(dataFrame,columnName,threshold)\n",
    "    \n",
    "    rss=0\n",
    "    \n",
    "    lowerMean=lowerDf[target].mean()\n",
    "    rss += ((lowerDf[target]-lowerMean)**2).sum()\n",
    "    \n",
    "    higherMean=higherDf[target].mean()\n",
    "    rss += ((higherDf[target]-higherMean)**2).sum()\n",
    "\n",
    "    return rss"
   ]
  },
  {
   "cell_type": "markdown",
   "id": "696637df",
   "metadata": {},
   "source": [
    "rssCalculater fonksiyonu veri setindeki herhangi bir kolon adı ve threshold için ona karşılık gelen RSS değerini hesaplıyor."
   ]
  },
  {
   "cell_type": "code",
   "execution_count": 3,
   "id": "670504be",
   "metadata": {},
   "outputs": [],
   "source": [
    "def dfSplit(dataFrame, columnName, threshold):\n",
    "    lowerDf=dataFrame.loc[dataFrame[columnName]<threshold]\n",
    "    higherDf=dataFrame.loc[dataFrame[columnName]>=threshold]\n",
    "    return lowerDf,higherDf"
   ]
  },
  {
   "cell_type": "markdown",
   "id": "06b09bcd",
   "metadata": {},
   "source": [
    "dfSplit fonksiyonu veri setini ikiye ayrılıyor.Başka bir değişle veri setini herhangi bir kolonun belirli bir değerinden\n",
    "    büyük ve küçük olanları olmak üzere ayırıyor."
   ]
  },
  {
   "cell_type": "code",
   "execution_count": 4,
   "id": "6dd97fe2",
   "metadata": {},
   "outputs": [],
   "source": [
    "def leafValue(dataFrame):\n",
    "    value=dataFrame[\"Salary\"].mean()\n",
    "    return value"
   ]
  },
  {
   "cell_type": "markdown",
   "id": "0d0cbb8b",
   "metadata": {},
   "source": [
    "leafValue fonksiyonu yapraklardaki değerin tahmin edilen target(\"Salary\") ortalamasını buluyor."
   ]
  },
  {
   "cell_type": "code",
   "execution_count": 5,
   "id": "eeed4ba1",
   "metadata": {},
   "outputs": [],
   "source": [
    "def bestSplit(dataFrame):\n",
    "    minRss=0\n",
    "    threshold=0\n",
    "    rssColumn=str\n",
    "    for column in dataFrame.select_dtypes(include=[\"integer\"]):\n",
    "        for row in dataFrame[column]:\n",
    "            rss=rssCalculater(dataFrame,column,row,\"Salary\")\n",
    "            if minRss==0:\n",
    "                minRss=rss\n",
    "            if rss<minRss:\n",
    "                threshold=row\n",
    "                minRss=rss\n",
    "                rssColumn=column\n",
    "    return rssColumn,threshold,minRss"
   ]
  },
  {
   "cell_type": "markdown",
   "id": "c90c06d1",
   "metadata": {},
   "source": [
    "bestSplit fonksiyonu bir veri setini ayırırken en optimal kolon ve threshold değerini veriyor."
   ]
  },
  {
   "cell_type": "code",
   "execution_count": 6,
   "id": "1477d0a5",
   "metadata": {},
   "outputs": [],
   "source": [
    "def treeSplit(dataFrame, rssColumn, threshold, maxDepth, currentDepth=1, name=\"\", dic={}):\n",
    "    \n",
    "    lowerDf , higherDf = dfSplit(dataFrame,rssColumn,threshold)\n",
    "    \n",
    "    controller=True\n",
    "    if currentDepth>maxDepth:\n",
    "        return\n",
    "    \n",
    "    else:\n",
    "        if len(lowerDf)<=5 or len(higherDf)<=5:\n",
    "            controllerColumn=rssColumn\n",
    "            controllerThreshold=threshold\n",
    "            controller=False\n",
    "        \n",
    "            \n",
    "        if len(lowerDf)>5:\n",
    "            if len(name) >= currentDepth:\n",
    "                name=name[:-1]\n",
    "            name+=\"L\"\n",
    "            rssColumn,threshold,minRss=bestSplit(lowerDf)\n",
    "            if currentDepth==4:\n",
    "                dic[name]=rssColumn,threshold,leafValue(lowerDf)\n",
    "            else:\n",
    "                dic[name]=rssColumn,threshold\n",
    "            treeSplit(lowerDf,rssColumn,threshold,maxDepth,currentDepth+1,name,dic,)\n",
    "        \n",
    "        else:\n",
    "            if len(name) > currentDepth:\n",
    "                name=name[:-1]\n",
    "            name+=\"L\"\n",
    "            dic[name]=rssColumn,threshold,leafValue(lowerDf)\n",
    "            name=name[:-1]\n",
    "            \n",
    "        if len(higherDf)>5:\n",
    "            if len(name) >= currentDepth:\n",
    "                name=name[:-1]\n",
    "            name+=\"R\"\n",
    "            rssColumn,threshold,minRss=bestSplit(higherDf)\n",
    "            \n",
    "            if currentDepth==4:\n",
    "                dic[name]=rssColumn,threshold,leafValue(higherDf)\n",
    "                \n",
    "            else:\n",
    "                dic[name]=rssColumn,threshold\n",
    "            treeSplit(higherDf,rssColumn,threshold,maxDepth,currentDepth+1,name,dic)\n",
    "        \n",
    "        else:\n",
    "            \n",
    "            if len(name) >= currentDepth:\n",
    "                name=name[:-1]    \n",
    "            name+=\"R\"\n",
    "            \n",
    "            if controller==False:\n",
    "                dic[name]=controllerColumn,controllerThreshold,leafValue(higherDf)\n",
    "                controller=True\n",
    "                \n",
    "            else:\n",
    "                dic[name]=rssColumn,threshold,leafValue(higherDf)\n",
    "                name=name[:-1]\n",
    "                \n",
    "    return dic"
   ]
  },
  {
   "cell_type": "markdown",
   "id": "e711a879",
   "metadata": {},
   "source": [
    "treeSplit fonksiyonu maxsize(bir yaprakta en az 5 veri bulunma) ve maxdepth(ağacın derinliği) şartları altında ağacın kurallarını kaydediyoruz. Recursive function kullanarak ağacı oluşturduğumuz kurallar bütününü dictionary tipinde kayıt ediyoruz. Ağacı oluşturduğumuz fonksiyon."
   ]
  },
  {
   "cell_type": "code",
   "execution_count": 7,
   "id": "50b10092",
   "metadata": {},
   "outputs": [],
   "source": [
    "def buildTree(dataFrame,maxDepth):\n",
    "    \n",
    "    dic={}\n",
    "    \n",
    "    root,threshold,minRSS = bestSplit(dataFrame)\n",
    "    \n",
    "    dic = treeSplit(dataFrame,root,threshold,maxDepth=maxDepth)\n",
    "    \n",
    "    dic[\"root\"]=root,threshold\n",
    "        \n",
    "    return dic"
   ]
  },
  {
   "cell_type": "markdown",
   "id": "e71a2e8a",
   "metadata": {},
   "source": [
    "buildTree fonksiyonu ağacı bütün kurallarıyla oluşturduğumuz fonksiyon."
   ]
  },
  {
   "cell_type": "code",
   "execution_count": 8,
   "id": "f7ee0fac",
   "metadata": {},
   "outputs": [],
   "source": [
    "def prediction(testData,dic,maxDepth=4):\n",
    "\n",
    "    if testData[dic[\"root\"][0]] >= dic[\"root\"][1]:\n",
    "        name=\"R\"\n",
    "        while len(name) < maxDepth:\n",
    "\n",
    "            if len(dic[name])==3:\n",
    "                return dic[name][2]\n",
    "            if testData[dic[name][0]] < dic[name][1]:\n",
    "                name+=\"L\"\n",
    "\n",
    "            else:\n",
    "                name+=\"R\"\n",
    "        return dic[name][2]\n",
    "    else:\n",
    "        name=\"L\"\n",
    "\n",
    "        while len(name)< maxDepth:\n",
    "\n",
    "            if len(dic[name])==3:\n",
    "                return dic[name][2]\n",
    "                \n",
    "            if testData[dic[name][0]] < dic[name][1]:\n",
    "                name+=\"L\"\n",
    "\n",
    "            else:\n",
    "                name+=\"R\"\n",
    "                    \n",
    "        return dic[name][2]"
   ]
  },
  {
   "cell_type": "markdown",
   "id": "5201ffe7",
   "metadata": {},
   "source": [
    "prediction fonksiyonu herhangi test verisinin oluşturduğumuz ağaçtan yararlanarak alacağı tahmin edilen değeri söylüyor."
   ]
  },
  {
   "cell_type": "code",
   "execution_count": 9,
   "id": "820fb9f2",
   "metadata": {},
   "outputs": [],
   "source": [
    "def generalRSS(testData, target, dic):\n",
    "    \n",
    "        #dic = self.buildTree(trainData)\n",
    "\n",
    "        predictionValues=[]\n",
    "        rss=0\n",
    "\n",
    "        for i in testData.index:\n",
    "\n",
    "            predictionValues.append((prediction(testData.loc[i],dic), testData.loc[i][target]))\n",
    "\n",
    "        for i in predictionValues:\n",
    "\n",
    "            rss += ((i[0] - i[1])**2) / len(testData.index)\n",
    "        return rss"
   ]
  },
  {
   "cell_type": "markdown",
   "id": "7a1fd54b",
   "metadata": {},
   "source": [
    "generalRSS fonksiyonu test verilerinin oluşturduğumuz ağaçta tahmin edilen değerleri ile gerçek değerleri arasındaki farktan\n",
    "RSS buluyor."
   ]
  },
  {
   "cell_type": "code",
   "execution_count": 10,
   "id": "a39e136b",
   "metadata": {},
   "outputs": [],
   "source": [
    "def bestDepth(trainData,testData,target):\n",
    "    rssList=[]\n",
    "    for depth in range(1,6):\n",
    "        dic=buildTree(trainData,depth)\n",
    "        trainRSS=generalRSS(trainData, target, dic)\n",
    "        testRSS=generalRSS(testData, target, dic)\n",
    "        rssList.append((trainRSS, testRSS, depth))\n",
    "    return rssList"
   ]
  },
  {
   "cell_type": "code",
   "execution_count": 11,
   "id": "9f2f18fa",
   "metadata": {},
   "outputs": [],
   "source": [
    "x = hitters.dropna(subset=[\"Salary\"])\n",
    "from sklearn.model_selection import train_test_split\n",
    "x_train, x_test = train_test_split(x, test_size=.2, random_state=41)"
   ]
  },
  {
   "cell_type": "code",
   "execution_count": 12,
   "id": "cad2a4f0",
   "metadata": {},
   "outputs": [
    {
     "data": {
      "text/plain": [
       "{'L': ('Hits', 3),\n",
       " 'LL': ('Hits', 3, 2127.333),\n",
       " 'LR': ('CAtBat', 1258),\n",
       " 'LRL': ('AtBat', 22),\n",
       " 'LRLL': ('AtBat', 22, 920.0),\n",
       " 'LRLR': ('CHits', 184, 154.97318390804597),\n",
       " 'LRR': ('Walks', 47),\n",
       " 'LRRL': ('Errors', 15, 312.1666666666667),\n",
       " 'LRRR': ('CRBI', 198, 451.0),\n",
       " 'R': ('Walks', 62),\n",
       " 'RL': ('PutOuts', 1160),\n",
       " 'RLL': ('AtBat', 370),\n",
       " 'RLLL': ('CHmRun', 194, 490.81523913043486),\n",
       " 'RLLR': ('CRBI', 280, 742.1126607142857),\n",
       " 'RLR': ('PutOuts', 1160, 1712.5),\n",
       " 'RR': ('RBI', 104),\n",
       " 'RRL': ('CRBI', 314),\n",
       " 'RRLL': ('RBI', 60, 668.8888888888889),\n",
       " 'RRLR': ('Hits', 160, 1147.2988275862067),\n",
       " 'RRR': ('RBI', 104, 1859.25775),\n",
       " 'root': ('CHits', 452)}"
      ]
     },
     "execution_count": 12,
     "metadata": {},
     "output_type": "execute_result"
    }
   ],
   "source": [
    "tree=buildTree(hitters,4)\n",
    "tree"
   ]
  },
  {
   "cell_type": "code",
   "execution_count": 13,
   "id": "0ea8d144",
   "metadata": {},
   "outputs": [
    {
     "data": {
      "text/plain": [
       "154.97318390804597"
      ]
     },
     "execution_count": 13,
     "metadata": {},
     "output_type": "execute_result"
    }
   ],
   "source": [
    "test=hitters.loc[20]\n",
    "prediction(test, tree)"
   ]
  },
  {
   "cell_type": "code",
   "execution_count": 20,
   "id": "cc7c4ef5",
   "metadata": {},
   "outputs": [],
   "source": [
    "def bagging():\n",
    "    rssValues=[]\n",
    "    for treeCount in range(1,5):\n",
    "        x_train, x_test = train_test_split(x, train_size=0.3)\n",
    "        tree=buildTree(x_test, maxDepth=4)\n",
    "        RSS=generalRSS(x_train,\"Salary\",tree)\n",
    "        rssValues.append(RSS)\n",
    "    return rssValues"
   ]
  },
  {
   "cell_type": "code",
   "execution_count": null,
   "id": "721516f9",
   "metadata": {},
   "outputs": [],
   "source": [
    "rssValues=bagging()"
   ]
  },
  {
   "cell_type": "code",
   "execution_count": null,
   "id": "188efcaa",
   "metadata": {},
   "outputs": [],
   "source": [
    "total=0\n",
    "for i in rssValues:\n",
    "    total+=i\n",
    "print(total/len(a))"
   ]
  },
  {
   "cell_type": "code",
   "execution_count": null,
   "id": "24c906dd",
   "metadata": {},
   "outputs": [],
   "source": [
    "plt.figure(figsize=(14,7))\n",
    "plt.plot(depthList,trainRssList, color=\"r\",linewidth=3)\n",
    "plt.plot(depthList,testRssList , color=\"b\",linewidth=3)\n",
    "plt.text( 8.7, 150000,\"Training\",color=\"r\",fontsize=14 )\n",
    "plt.text( 8.7, 140000,\"Test\",color=\"b\",fontsize=14 )\n",
    "plt.xlabel(\"Tree Depth\", fontsize=14)\n",
    "plt.ylabel(\"RSS Values\", fontsize=14)"
   ]
  }
 ],
 "metadata": {
  "kernelspec": {
   "display_name": "Python 3",
   "language": "python",
   "name": "python3"
  },
  "language_info": {
   "codemirror_mode": {
    "name": "ipython",
    "version": 3
   },
   "file_extension": ".py",
   "mimetype": "text/x-python",
   "name": "python",
   "nbconvert_exporter": "python",
   "pygments_lexer": "ipython3",
   "version": "3.8.8"
  }
 },
 "nbformat": 4,
 "nbformat_minor": 5
}
